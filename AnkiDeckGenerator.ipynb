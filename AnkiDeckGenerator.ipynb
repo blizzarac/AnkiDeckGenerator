{
 "cells": [
  {
   "cell_type": "code",
   "execution_count": 10,
   "metadata": {},
   "outputs": [],
   "source": [
    "# Vocab Summary"
   ]
  },
  {
   "cell_type": "code",
   "execution_count": 143,
   "metadata": {},
   "outputs": [],
   "source": [
    "# Arguments\n",
    "# GOOGLE API KEYS see https://console.cloud.google.com/\n",
    "TRANSLATE_API_KEY = \"##########################\"\n",
    "TEXTTOSPEECH_API_KEY = \"##########################\"\n",
    "\n",
    "# Supported voices\n",
    "# https://cloud.google.com/text-to-speech/docs/voices?hl=en_US\n",
    "SPEECH_OUTPUT_LANGUAGE_CODE = \"ko-KR\"\n",
    "SPEECH_OUTPUT_LANGUAGE_NAME = \"ko-KR-Standard-A\"\n",
    "SPEECH_OUTPUT_LANGUAGE_GENDER = \"FEMALE\"\n",
    "\n",
    "# Open Anki in custom location\n",
    "# open /Applications/Anki.app --args -b ~/anki\n",
    "ANKI_MEDIA_LOCATION = \"/Users/<USER>/anki/<ANKI USER>/collection.media/\"\n"
   ]
  },
  {
   "cell_type": "code",
   "execution_count": 144,
   "metadata": {},
   "outputs": [],
   "source": [
    "title = \"A Sleepyhead Baby Bear\"\n",
    "text = \"\"\"\n",
    "한 아기 곰이 숲속에 살았습니다. \n",
    "그가 늦잠을 잤고 학교에 늦게 갔습니다. \n",
    "그의 반 친구들은 그를 놀렸습니다. \n",
    "그가 그의 얼굴을 씻지 않았기 때문이었습니다. \n",
    "그가 연못으로 갔고 그의 얼굴을 씻었습니다. \n",
    "그의 얼굴이 깨끗해졌습니다. 그가 연못을 보고 웃었습니다. \n",
    "연못도 그에게 웃어주었습니다.\n",
    "\"\"\""
   ]
  },
  {
   "cell_type": "code",
   "execution_count": 145,
   "metadata": {},
   "outputs": [],
   "source": [
    "# Init Google translate API\n",
    "import requests\n",
    "\n",
    "def translate(text):\n",
    "    resp = requests.get(\"https://translation.googleapis.com/language/translate/v2?target=en&key=\" + TRANSLATE_API_KEY + \"&q=\" + text)\n",
    "    return resp.json()[\"data\"][\"translations\"][0][\"translatedText\"]"
   ]
  },
  {
   "cell_type": "code",
   "execution_count": 146,
   "metadata": {},
   "outputs": [],
   "source": [
    "# Anki Import\n",
    "# \n",
    "# See https://foosoft.net/projects/anki-connect/\n",
    "# Installation\n",
    "# Open the Install Add-on dialog by selecting Tools | Add-ons | Browse & Install in Anki.\n",
    "# Input 2055492159 into the text box labeled Code and press the OK button to proceed.\n",
    "# Restart Anki when prompted to do so in order to complete the installation of AnkiConnect.\n",
    "#\n",
    "# For MacOS Users\n",
    "# Start the Terminal application.\n",
    "# Execute the following commands in the terminal window:\n",
    "#  defaults write net.ankiweb.dtop NSAppSleepDisabled -bool true\n",
    "#  defaults write net.ichi2.anki NSAppSleepDisabled -bool true\n",
    "#  defaults write org.qt-project.Qt.QtWebEngineCore NSAppSleepDisabled -bool true\n",
    "# Restart Anki.\n",
    "\n",
    "import json\n",
    "import urllib.request\n",
    "\n",
    "def request(action, **params):\n",
    "    return {'action': action, 'params': params, 'version': 6}\n",
    "\n",
    "def invoke(action, **params):\n",
    "    requestJson = json.dumps(request(action, **params)).encode('utf-8')\n",
    "    response = json.load(urllib.request.urlopen(urllib.request.Request('http://localhost:8765', requestJson)))\n",
    "    if len(response) != 2:\n",
    "        raise Exception('response has an unexpected number of fields')\n",
    "    if 'error' not in response:\n",
    "        raise Exception('response is missing required error field')\n",
    "    if 'result' not in response:\n",
    "        raise Exception('response is missing required result field')\n",
    "    if response['error'] is not None:\n",
    "        raise Exception(response['error'])\n",
    "    return response['result']"
   ]
  },
  {
   "cell_type": "code",
   "execution_count": 147,
   "metadata": {},
   "outputs": [],
   "source": [
    "# Get unique words from text\n",
    "vocabList = set(text.replace(\"\\n\", \" \").replace(\",\", \" \").replace(\".\", \" \").split(\" \"));\n",
    "\n",
    "# Translate\n",
    "vocabMapwithTranslations = {}\n",
    "for word in vocabList:\n",
    "    vocabMapwithTranslations[word] = translate(word)"
   ]
  },
  {
   "cell_type": "code",
   "execution_count": 148,
   "metadata": {},
   "outputs": [],
   "source": [
    "# Init Google Speach API\n",
    "import requests\n",
    "import base64 \n",
    "\n",
    "url = 'https://texttospeech.googleapis.com/v1beta1/text:synthesize'\n",
    "\n",
    "def getSpokenText(inputText):\n",
    "    request_data = {\n",
    "        \"input\": {\n",
    "            \"text\": inputText\n",
    "        },\n",
    "        \"voice\": {\n",
    "            \"languageCode\": SPEECH_OUTPUT_LANGUAGE_CODE,\n",
    "            \"name\": SPEECH_OUTPUT_LANGUAGE_NAME,\n",
    "            \"ssmlGender\": SPEECH_OUTPUT_LANGUAGE_GENDER\n",
    "        },\n",
    "        \"audioConfig\": {\n",
    "            \"audioEncoding\": \"MP3\"\n",
    "        }\n",
    "    }\n",
    "\n",
    "\n",
    "    resp = requests.post(url, json.dumps(request_data), headers = {\"X-Goog-Api-Key\": TEXTTOSPEECH_API_KEY})\n",
    "    decodedBytes = base64.b64decode(resp.json()[\"audioContent\"])\n",
    "    \n",
    "    return decodedBytes\n"
   ]
  },
  {
   "cell_type": "code",
   "execution_count": 149,
   "metadata": {},
   "outputs": [],
   "source": [
    "import os.path\n",
    "\n",
    "# open /Applications/Anki.app --args -b ~/anki\n",
    "# https://docs.ankiweb.net/#/files?id=startup-options\n",
    "\n",
    "def createMP3File(text):\n",
    "    filename = ANKI_MEDIA_LOCATION + text + \".mp3\"\n",
    "    if os.path.isfile(filename):\n",
    "        return text + \".mp3\"\n",
    "    else:\n",
    "        print(\"Creating new file: \" + text + \".mp3\")\n",
    "        \n",
    "    mp3data = getSpokenText(text)\n",
    "    with open(filename, 'w+b') as fp:\n",
    "        fp.write(mp3data)\n",
    "    \n",
    "    return text + \".mp3\"\n",
    "    "
   ]
  },
  {
   "cell_type": "code",
   "execution_count": 154,
   "metadata": {},
   "outputs": [],
   "source": [
    "invoke('createDeck', deck=title)\n",
    "\n",
    "for word in vocabMapwithTranslations:\n",
    "    if not word or not vocabMapwithTranslations[word] or word == vocabMapwithTranslations[word]:\n",
    "        continue;\n",
    "    soundFile = createMP3File(word)\n",
    "    invoke('addNote', note = {\n",
    "            \"deckName\": title,\n",
    "            \"modelName\": \"Basic\",\n",
    "            \"fields\": {\n",
    "                \"Front\": word + \"[sound:\"+ word + \".mp3]\",\n",
    "                \"Back\": vocabMapwithTranslations[word]\n",
    "            }\n",
    "        })\n"
   ]
  }
 ],
 "metadata": {
  "kernelspec": {
   "display_name": "Python 3",
   "language": "python",
   "name": "python3"
  },
  "language_info": {
   "codemirror_mode": {
    "name": "ipython",
    "version": 3
   },
   "file_extension": ".py",
   "mimetype": "text/x-python",
   "name": "python",
   "nbconvert_exporter": "python",
   "pygments_lexer": "ipython3",
   "version": "3.7.6"
  }
 },
 "nbformat": 4,
 "nbformat_minor": 4
}
